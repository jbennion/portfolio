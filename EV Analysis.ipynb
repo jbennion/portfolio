{
 "cells": [
  {
   "cell_type": "code",
   "execution_count": 1,
   "id": "d073f790",
   "metadata": {},
   "outputs": [],
   "source": [
    "import pandas as pd\n",
    "import numpy as np\n",
    "from pandas_ods_reader import read_ods\n",
    "import re\n",
    "import matplotlib.pyplot as plt\n",
    "import seaborn as sns\n",
    "\n",
    "import scipy.stats as stats\n",
    "import statsmodels.api as sm\n",
    "from statsmodels.formula.api import ols\n",
    "\n",
    "from scipy.stats import ttest_rel\n",
    "from scipy.stats import ttest_ind"
   ]
  },
  {
   "cell_type": "code",
   "execution_count": 2,
   "id": "31fe8cdc",
   "metadata": {},
   "outputs": [],
   "source": [
    "fpath = 'izev-wsts-_september_2022_stats_for_web_publishing-en.ods'\n",
    "\n",
    "sheet_index = 1\n",
    "dfinc = read_ods(fpath, sheet_index)\n",
    "\n",
    "fpath2 = '20100024.csv' \n",
    "dfreg = pd.read_csv(fpath2)\n",
    "\n",
    "fpath3 = 'provinces.csv'\n",
    "dfprov = pd.read_csv(fpath3, index_col = 'Name')\n"
   ]
  },
  {
   "cell_type": "code",
   "execution_count": 3,
   "id": "2cd9975b",
   "metadata": {},
   "outputs": [],
   "source": [
    "test = dfreg.copy()\n",
    "test['REF_DATE'].replace('\\d\\d\\d\\d-', '', regex = True, inplace = True)\n",
    "test['REF_DATE']=test['REF_DATE'].astype('int32')\n",
    "\n",
    "test = test.loc[test['GEO']=='Canada'].groupby(['REF_DATE']).sum().reset_index()\n",
    "\n",
    "regfraction = (test['VALUE'].sum())/(test.loc[1,'VALUE'] + test.loc[0,'VALUE'])"
   ]
  },
  {
   "cell_type": "code",
   "execution_count": 4,
   "id": "799bd073",
   "metadata": {},
   "outputs": [],
   "source": [
    "test2 = dfinc.copy()\n",
    "test2.loc[test2['Calendar Year'].isin([2020,2021])]\n",
    "test2['Month and Year '].replace(' .*', '', regex = True, inplace = True)\n",
    "\n",
    "monthmap = {'January':1,'February':2,'March':3,'April':4,'May':5,'June':6,'July':7,'August':8,'September':9,'October':10,'November':11,'December':12}\n",
    "\n",
    "test2['Month and Year '] = test2['Month and Year '].map(monthmap)\n",
    "\n",
    "test2 = test2.groupby(['Month and Year ']).sum().reset_index()\n",
    "\n",
    "incfraction2019 = test2['Eligible Incentive Amount'].sum()/test2.loc[5:12,'Eligible Incentive Amount'].sum()\n",
    "incfraction2022 = test2['Eligible Incentive Amount'].sum()/test2.loc[1:9,'Eligible Incentive Amount'].sum()\n"
   ]
  },
  {
   "cell_type": "code",
   "execution_count": 5,
   "id": "a7f7b91d",
   "metadata": {},
   "outputs": [],
   "source": [
    "provmap = {'British Columbia':'British Columbia and the Territories'\n",
    "           , 'Northwest Territories':'British Columbia and the Territories'\n",
    "           , 'Yukon':'British Columbia and the Territories'\n",
    "           , 'Quebec':'Quebec'\n",
    "           , 'Ontario':'Ontario'\n",
    "           , 'Manitoba':'Manitoba'\n",
    "           , 'New Brunswick':'New Brunswick'\n",
    "           , 'Saskatchewan':'Saskatchewan'\n",
    "           , 'Nova Scotia':'Nova Scotia'\n",
    "           , 'Alberta':'Alberta'\n",
    "           , 'Prince Edward Island':'Prince Edward Island'\n",
    "           , 'Newfoundland and Labrador':'Newfoundland and Labrador'}\n",
    "\n",
    "popmap = dfprov['Population Total'].to_dict()\n",
    "\n",
    "provlist = ['Prince Edward Island', 'New Brunswick', 'Quebec', 'Ontario', 'Manitoba', 'Saskatchewan', 'British Columbia and the Territories']\n",
    "yearlist = [2019,2020,2021,2022]\n",
    "          \n",
    "\n",
    "dfinc['Recipient Province / Territory ']=dfinc['Recipient Province / Territory '].map(provmap)"
   ]
  },
  {
   "cell_type": "code",
   "execution_count": 6,
   "id": "b58ecda5",
   "metadata": {},
   "outputs": [],
   "source": [
    "dfinc['Calendar Year']=dfinc['Calendar Year'].astype('int32')\n",
    "dfreg['REF_DATE'].replace('-\\d\\d', '', regex = True, inplace = True)\n",
    "dfreg['REF_DATE']=dfreg['REF_DATE'].astype('int32')"
   ]
  },
  {
   "cell_type": "code",
   "execution_count": 7,
   "id": "db5d2760",
   "metadata": {},
   "outputs": [],
   "source": [
    "incentive = dfinc.iloc[:,[3,7,10,11]]\n",
    "incentive.columns=['Year','Type','Total Incentive','Province']\n",
    "incentive = incentive.loc[incentive['Province'].isin(provlist)]"
   ]
  },
  {
   "cell_type": "code",
   "execution_count": 8,
   "id": "ec8dc287",
   "metadata": {
    "scrolled": true
   },
   "outputs": [],
   "source": [
    "register = dfreg.iloc[:,[0,1,3,12]]\n",
    "register.columns=['Year','Province','Type','Registrations']\n",
    "register = register.loc[register['Province'].isin(provlist)]"
   ]
  },
  {
   "cell_type": "code",
   "execution_count": 9,
   "id": "0a77d033",
   "metadata": {},
   "outputs": [],
   "source": [
    "register['Type'] = register['Type'].map({'All fuel types':'Not EV', 'Gasoline':'Not EV', 'Diesel':'Not EV', 'Battery electric':'EV',\n",
    "       'Hybrid electric':'EV', 'Plug-in hybrid electric':'EV', 'Other fuel types':'Not EV'})"
   ]
  },
  {
   "cell_type": "code",
   "execution_count": 10,
   "id": "66545879",
   "metadata": {},
   "outputs": [],
   "source": [
    "finalreg = register.groupby(['Province','Year','Type'])['Registrations'].apply('sum').reset_index()\n",
    "finalinc = incentive.groupby(['Province','Year']).sum().reset_index()"
   ]
  },
  {
   "cell_type": "code",
   "execution_count": 11,
   "id": "6b3f2e81",
   "metadata": {},
   "outputs": [],
   "source": [
    "finalreg['Population'] = finalreg['Province'].map(popmap)\n",
    "finalreg['Reg/Pop'] = finalreg['Registrations']/finalreg['Population']"
   ]
  },
  {
   "cell_type": "code",
   "execution_count": 12,
   "id": "ad252cd5",
   "metadata": {
    "scrolled": false
   },
   "outputs": [],
   "source": [
    "finaldf = pd.merge(finalreg, finalinc, on=['Province', 'Year'], how = 'outer').fillna(0)\n",
    "\n",
    "def incMap(n):\n",
    "    if n == 0:\n",
    "        return 'No'\n",
    "    else:\n",
    "        return 'Yes'          \n",
    "\n",
    "finaldf['Is Incentive'] = finaldf['Total Incentive'].map(incMap)\n",
    "finaldf['Inc/Pop'] = finaldf['Total Incentive']/finaldf['Population']"
   ]
  },
  {
   "cell_type": "code",
   "execution_count": 13,
   "id": "35cbe7fa",
   "metadata": {},
   "outputs": [],
   "source": [
    "finaldf.loc[finaldf['Year'] == 2022,'Registrations'] *= regfraction\n",
    "finaldf.loc[finaldf['Year'] == 2022,'Reg/Pop'] *= regfraction\n",
    "# finaldf.loc[finaldf['Year'] == 2022,'Inc/Pop'] *= incfraction2022\n",
    "# finaldf.loc[finaldf['Year'] == 2019,'Inc/Pop'] *= incfraction2019\n",
    "finaldf.loc[finaldf['Year'] == 2022,'Inc/Pop'] *= 3/2\n",
    "finaldf.loc[finaldf['Year'] == 2019,'Inc/Pop'] *= 4/3"
   ]
  },
  {
   "cell_type": "code",
   "execution_count": 14,
   "id": "f587dfff",
   "metadata": {},
   "outputs": [],
   "source": [
    "er = finaldf.loc[finaldf['Type']=='EV'].reset_index()['Registrations']/finaldf.loc[finaldf['Type']=='Not EV'].reset_index()['Registrations']\n",
    "\n",
    "finaldf['EV/Reg'] = np.repeat(er.values,2)"
   ]
  },
  {
   "cell_type": "markdown",
   "id": "86507363",
   "metadata": {},
   "source": [
    "---\n",
    "\n",
    "# Electric Vehicle Incentives Analysis\n"
   ]
  },
  {
   "cell_type": "markdown",
   "id": "d9265d97",
   "metadata": {},
   "source": [
    "---\n",
    "\n",
    "## Table of Contents\n",
    "\n",
    "1. Objectives\n",
    "1. Data Preparation\n",
    "1. Initial Analysis\n",
    "1. Linear Regression\n",
    "1. Hypothesis Testing\n",
    "1. Conclusions\n"
   ]
  },
  {
   "cell_type": "markdown",
   "id": "38cda58c",
   "metadata": {},
   "source": [
    "---\n",
    "\n",
    "## Objectives\n",
    "\n",
    "We wanted to discover how effective the Incentives for Zero-Emission Vehicles (iZEV) program has been at encouraging Canadian consumers to purchase electric vehicles as apposed to traditional ones. The data that we were interested in analyzing were data related to the number of vehicles registered in Canada in the years before and after the IZEV program was intruduced. We also wanted to look at how popular the iZEC program is, how much it has been used and how the incentives offered through the program have been related to the change in vehicle registrations.\n",
    "\n",
    "After obtaining the data, we wanted to analyze it to determine whether or not the incentives have been successful at playing a significant role in the change in electric vehicle purchasing trends. Ideally it would be possible to use hypothesis tests to determine the likelihood of iZEV incentives causing an increasing in electric cehicle purchases by comparing the purchasing behaviour before and after the incentives became available. \n"
   ]
  },
  {
   "cell_type": "markdown",
   "id": "58cd81c5",
   "metadata": {},
   "source": [
    "<br>\n",
    "<br>\n",
    "\n",
    "---\n",
    "\n",
    "## Data Preparation\n",
    "\n",
    "Data about new vehicle registrations in Canada was retrieved from Statistics Canada. The data included the number of vehicle registrations in each province, for the years 2017-2022, sorted by vehicle type. Data was not available for Alberta, Newfoundland or New Brunswick. The data was downloaded as a .csv file from the Statistics Canada website[^1]. \n",
    "\n",
    "Data related to the economic incentives granted by the iZEV program was also retrieved from the government of Canada's Open Government Portal. The data summarizes all instances of incentives recieved by consumers, sorted by province and vehicle type. The data was also downloaded as a .csv file from the Government of Canada Open Government website [^2].\n",
    "\n",
    "In order to standardize the registrations and incentives, since the different provinces were going to be used as data points, the populations of the provinces was retrieved from Wikipedia [^3].\n",
    "\n",
    "\n",
    "The data was wrangled in order to produce a table where each observation represents one province for one year. Because each province has significantly different populations, new variables were introduced. A variable for the fraction of all vehicle registrations that were electric vehicles was calculated, as well as a variable representing the number of registrations per capita. The final dataframe can be seen below in the [Appendix: Data Samples](#Appendix:-Data-Samples)\n",
    "\n",
    "The data for each year were not all complete, so the final values had to be changed to compensate. The vehicle registrations data was missing the last two quarters of 2022, and the financial incentives data was missing the first four months of 2019, and the last 3 months of 2022. We examined if there were any patterns in vehicle registrations and iZEV incentives recieved from the complete years in order to determine how to recalculate the values for 2019 and 2022. Below are plots of the distributions of registrations per quarter, and incentives per months. Because of the general pattern of increased registrations and incentives during the middle of the year, the values for the registrations in the final data set were adjusted to compensate for this relationship. Below is the results of an ANOVA test for the registrations and the incentives, and it can be seen that in the case of the registrations, there is a significant result that the quarters are not identical, and therefore the values were used to compute the final values, whereas the incentives were treated as if the months were identical.  \n",
    "\n",
    "[^1]: Government of Canada, Statistics Canada. (2022, October 11). New Motor Vehicle Registrations, quarterly. Government of Canada, Statistics Canada. Retrieved December 9, 2022, from https://www150.statcan.gc.ca/t1/tbl1/en/tv.action?pid=2010002401 \n",
    "[^2]: Statistics on the incentives for zero-emission vehicles (iZEV) program - statistics on the incentives for zero-emission vehicles program (iZEV) - Data Dictionary. Open Government Portal. (n.d.). Retrieved December 9, 2022, from https://open.canada.ca/data/en/dataset/42986a95-be23-436e-af15-7c6bf292a2e1/resource/12a8a111-d790-49ce-af7c-ec388345e147 \n",
    "[^3]: Wikimedia Foundation. (2022, October 19). Population of Canada by province and territory. Wikipedia. Retrieved December 9, 2022, from https://en.wikipedia.org/wiki/Population_of_Canada_by_province_and_territory "
   ]
  },
  {
   "cell_type": "code",
   "execution_count": 15,
   "id": "685e8b9e",
   "metadata": {},
   "outputs": [
    {
     "data": {
      "text/html": [
       "<div>\n",
       "<style scoped>\n",
       "    .dataframe tbody tr th:only-of-type {\n",
       "        vertical-align: middle;\n",
       "    }\n",
       "\n",
       "    .dataframe tbody tr th {\n",
       "        vertical-align: top;\n",
       "    }\n",
       "\n",
       "    .dataframe thead th {\n",
       "        text-align: right;\n",
       "    }\n",
       "</style>\n",
       "<table border=\"1\" class=\"dataframe\">\n",
       "  <thead>\n",
       "    <tr style=\"text-align: right;\">\n",
       "      <th></th>\n",
       "      <th>sum_sq</th>\n",
       "      <th>df</th>\n",
       "      <th>F</th>\n",
       "      <th>PR(&gt;F)</th>\n",
       "    </tr>\n",
       "  </thead>\n",
       "  <tbody>\n",
       "    <tr>\n",
       "      <th>REF_DATE</th>\n",
       "      <td>8.450503e+09</td>\n",
       "      <td>1.0</td>\n",
       "      <td>3.912846</td>\n",
       "      <td>0.047963</td>\n",
       "    </tr>\n",
       "    <tr>\n",
       "      <th>Residual</th>\n",
       "      <td>1.329932e+13</td>\n",
       "      <td>6158.0</td>\n",
       "      <td>NaN</td>\n",
       "      <td>NaN</td>\n",
       "    </tr>\n",
       "  </tbody>\n",
       "</table>\n",
       "</div>"
      ],
      "text/plain": [
       "                sum_sq      df         F    PR(>F)\n",
       "REF_DATE  8.450503e+09     1.0  3.912846  0.047963\n",
       "Residual  1.329932e+13  6158.0       NaN       NaN"
      ]
     },
     "execution_count": 15,
     "metadata": {},
     "output_type": "execute_result"
    }
   ],
   "source": [
    "test3 = dfreg.copy()\n",
    "test3['REF_DATE'].replace('\\d\\d\\d\\d-', '', regex = True, inplace = True)\n",
    "test3['REF_DATE']=test3['REF_DATE'].astype('int32')\n",
    "anov = ols('VALUE ~ REF_DATE', data=test3).fit()\n",
    "anova_table = sm.stats.anova_lm(anov, typ=2)\n",
    "anova_table"
   ]
  },
  {
   "cell_type": "code",
   "execution_count": 16,
   "id": "b66dfc42",
   "metadata": {
    "scrolled": false
   },
   "outputs": [
    {
     "data": {
      "image/png": "[encoded data removed]",
      "text/plain": [
       "<Figure size 432x288 with 1 Axes>"
      ]
     },
     "metadata": {
      "needs_background": "light"
     },
     "output_type": "display_data"
    }
   ],
   "source": [
    "plot = sns.barplot(data = test, x = 'REF_DATE', y = 'VALUE', palette = sns.color_palette(\"mako\", 4))\n",
    "plot.set(title='Registrations per Quarter')\n",
    "plot.set(xlabel='Quarter', ylabel='Registrations')\n",
    "plt.tight_layout()   \n",
    "plt.show()"
   ]
  },
  {
   "cell_type": "code",
   "execution_count": 17,
   "id": "9eb65ed2",
   "metadata": {},
   "outputs": [],
   "source": [
    "# test2 = dfinc.copy()\n",
    "# test2.loc[test2['Calendar Year'].isin([2020,2021])]\n",
    "# test2['Month and Year '].replace(' .*', '', regex = True, inplace = True)\n",
    "\n",
    "# monthmap = {'January':1,'February':2,'March':3,'April':4,'May':5,'June':6,'July':7,'August':8,'September':9,'October':10,'November':11,'December':12}\n",
    "\n",
    "# test2['Month and Year '] = test2['Month and Year '].map(monthmap)\n",
    "\n",
    "# anov = ols('VALUE ~ REF_DATE', data=test).fit()\n",
    "# anova_table = sm.stats.anova_lm(anov, typ=2)\n",
    "# anova_table"
   ]
  },
  {
   "cell_type": "code",
   "execution_count": 18,
   "id": "76a52d21",
   "metadata": {
    "scrolled": false
   },
   "outputs": [
    {
     "data": {
      "text/html": [
       "<div>\n",
       "<style scoped>\n",
       "    .dataframe tbody tr th:only-of-type {\n",
       "        vertical-align: middle;\n",
       "    }\n",
       "\n",
       "    .dataframe tbody tr th {\n",
       "        vertical-align: top;\n",
       "    }\n",
       "\n",
       "    .dataframe thead th {\n",
       "        text-align: right;\n",
       "    }\n",
       "</style>\n",
       "<table border=\"1\" class=\"dataframe\">\n",
       "  <thead>\n",
       "    <tr style=\"text-align: right;\">\n",
       "      <th></th>\n",
       "      <th>sum_sq</th>\n",
       "      <th>df</th>\n",
       "      <th>F</th>\n",
       "      <th>PR(&gt;F)</th>\n",
       "    </tr>\n",
       "  </thead>\n",
       "  <tbody>\n",
       "    <tr>\n",
       "      <th>Quarter</th>\n",
       "      <td>1.914295e+12</td>\n",
       "      <td>1.0</td>\n",
       "      <td>0.009501</td>\n",
       "      <td>0.923959</td>\n",
       "    </tr>\n",
       "    <tr>\n",
       "      <th>Residual</th>\n",
       "      <td>2.417717e+15</td>\n",
       "      <td>12.0</td>\n",
       "      <td>NaN</td>\n",
       "      <td>NaN</td>\n",
       "    </tr>\n",
       "  </tbody>\n",
       "</table>\n",
       "</div>"
      ],
      "text/plain": [
       "                sum_sq    df         F    PR(>F)\n",
       "Quarter   1.914295e+12   1.0  0.009501  0.923959\n",
       "Residual  2.417717e+15  12.0       NaN       NaN"
      ]
     },
     "execution_count": 18,
     "metadata": {},
     "output_type": "execute_result"
    }
   ],
   "source": [
    "test4 = dfinc.copy()\n",
    "test4.loc[test4['Calendar Year'].isin([2020,2021])]\n",
    "test4['Month and Year '].replace(' .*', '', regex = True, inplace = True)\n",
    "\n",
    "monthmap = {'January':1,'February':1,'March':1,'April':2,'May':2,'June':2,'July':3,'August':3,'September':3,'October':4,'November':4,'December':4}\n",
    "\n",
    "test4['Month and Year '] = test4['Month and Year '].map(monthmap)\n",
    "test4 = test4.groupby(['Month and Year ','Calendar Year']).sum().reset_index()\n",
    "test4.columns = ['Quarter','Year','Incentive']\n",
    "\n",
    "anov = ols('Incentive ~ Quarter', data=test4).fit()\n",
    "anova_table = sm.stats.anova_lm(anov, typ=2)\n",
    "anova_table"
   ]
  },
  {
   "cell_type": "code",
   "execution_count": 19,
   "id": "865d2493",
   "metadata": {},
   "outputs": [
    {
     "data": {
      "image/png": "[encoded data removed]",
      "text/plain": [
       "<Figure size 432x288 with 2 Axes>"
      ]
     },
     "metadata": {
      "needs_background": "light"
     },
     "output_type": "display_data"
    }
   ],
   "source": [
    "fig, (ax1, ax2) = plt.subplots(1, 2)\n",
    "plot = sns.barplot(data = test2, x = 'Month and Year ', y = 'Eligible Incentive Amount', palette = sns.color_palette(\"mako\", 12),ax = ax1)\n",
    "plot.set(title='Incentives per Month')\n",
    "plot.set(xlabel='Month', ylabel='Incentives')\n",
    "plt.tight_layout()   \n",
    "\n",
    "\n",
    "plot = sns.barplot(data = test4, y = 'Incentive', x = 'Quarter', palette = sns.color_palette(\"mako\", 4), ax = ax2)\n",
    "plot.set(title='Incentives per Quarter')\n",
    "plot.set(xlabel='Month', ylabel='Incentives')\n",
    "plt.tight_layout()   \n",
    "\n",
    "\n",
    "plt.show()"
   ]
  },
  {
   "cell_type": "markdown",
   "id": "0ae710c1",
   "metadata": {},
   "source": [
    "---\n",
    "\n",
    "##  Initial Analysis\n",
    "\n",
    "The first step in the analysis was to examine the trends that took place over the 2017-2022 period that was being examined. By looking first at the change in the fraction of vehicle regitrations that are EVs, and the EV and non-EV registrations per capita, several trends become clear. Not only has the fraction of vehicles that are EVS consistently been increasing, but the raw number of EV registrations per capita has been increasing, while the non-EV registrations have been decreasing. It can be seen there is a clear trend towards more  EV registrations and a higher fraction of EV vehicles. "
   ]
  },
  {
   "cell_type": "code",
   "execution_count": 20,
   "id": "a4f626c9",
   "metadata": {},
   "outputs": [
    {
     "data": {
      "image/png": "[encoded data removed]",
      "text/plain": [
       "<Figure size 432x288 with 1 Axes>"
      ]
     },
     "metadata": {
      "needs_background": "light"
     },
     "output_type": "display_data"
    }
   ],
   "source": [
    "plot = sns.boxplot(data=finaldf.loc[finaldf['Type']=='EV'], x=\"Year\", y=\"EV/Reg\", palette = sns.color_palette(\"mako\"))\n",
    "plot.set(title='Fraction of Vehicle Registrations that are EVs')\n",
    "plot.set(xlabel='Year', ylabel='EV/Registration')\n",
    "plt.tight_layout()   \n",
    "plt.show()"
   ]
  },
  {
   "cell_type": "code",
   "execution_count": 21,
   "id": "f3dcd373",
   "metadata": {},
   "outputs": [
    {
     "data": {
      "image/png": "[encoded data removed]",
      "text/plain": [
       "<Figure size 432x288 with 1 Axes>"
      ]
     },
     "metadata": {
      "needs_background": "light"
     },
     "output_type": "display_data"
    }
   ],
   "source": [
    "plot = sns.boxplot(data=finaldf.loc[finaldf['Type']=='EV'], x=\"Year\", y=\"Reg/Pop\", palette = sns.color_palette(\"mako\"))\n",
    "plot.set(title='EV Registration per Capita')\n",
    "plot.set(xlabel='Year', ylabel='EV Registration per Capita')\n",
    "plt.tight_layout()   \n",
    "plt.show()"
   ]
  },
  {
   "cell_type": "code",
   "execution_count": 22,
   "id": "d067c83f",
   "metadata": {},
   "outputs": [
    {
     "data": {
      "image/png": "[encoded data removed]",
      "text/plain": [
       "<Figure size 432x288 with 1 Axes>"
      ]
     },
     "metadata": {
      "needs_background": "light"
     },
     "output_type": "display_data"
    }
   ],
   "source": [
    "plot = sns.boxplot(data=finaldf.loc[finaldf['Type']=='Not EV'], x=\"Year\", y=\"Reg/Pop\", palette = sns.color_palette(\"mako\"))\n",
    "plot.set(title='Non-EV Registration per Capita')\n",
    "plot.set(xlabel='Year', ylabel='Non-EV Registration per Capita')\n",
    "plt.tight_layout()   \n",
    "plt.show()"
   ]
  },
  {
   "cell_type": "markdown",
   "id": "0c519d4d",
   "metadata": {},
   "source": [
    "We can also see that the total incentives recieved has not remained constant after they were initially implemented, as an ANOVA test shows that they are unlikely to have the same mean."
   ]
  },
  {
   "cell_type": "code",
   "execution_count": 23,
   "id": "d9110747",
   "metadata": {
    "scrolled": false
   },
   "outputs": [
    {
     "data": {
      "text/html": [
       "<div>\n",
       "<style scoped>\n",
       "    .dataframe tbody tr th:only-of-type {\n",
       "        vertical-align: middle;\n",
       "    }\n",
       "\n",
       "    .dataframe tbody tr th {\n",
       "        vertical-align: top;\n",
       "    }\n",
       "\n",
       "    .dataframe thead th {\n",
       "        text-align: right;\n",
       "    }\n",
       "</style>\n",
       "<table border=\"1\" class=\"dataframe\">\n",
       "  <thead>\n",
       "    <tr style=\"text-align: right;\">\n",
       "      <th></th>\n",
       "      <th>sum_sq</th>\n",
       "      <th>df</th>\n",
       "      <th>F</th>\n",
       "      <th>PR(&gt;F)</th>\n",
       "    </tr>\n",
       "  </thead>\n",
       "  <tbody>\n",
       "    <tr>\n",
       "      <th>Year</th>\n",
       "      <td>0.000086</td>\n",
       "      <td>1.0</td>\n",
       "      <td>5.508144</td>\n",
       "      <td>0.026821</td>\n",
       "    </tr>\n",
       "    <tr>\n",
       "      <th>Residual</th>\n",
       "      <td>0.000404</td>\n",
       "      <td>26.0</td>\n",
       "      <td>NaN</td>\n",
       "      <td>NaN</td>\n",
       "    </tr>\n",
       "  </tbody>\n",
       "</table>\n",
       "</div>"
      ],
      "text/plain": [
       "            sum_sq    df         F    PR(>F)\n",
       "Year      0.000086   1.0  5.508144  0.026821\n",
       "Residual  0.000404  26.0       NaN       NaN"
      ]
     },
     "execution_count": 23,
     "metadata": {},
     "output_type": "execute_result"
    }
   ],
   "source": [
    "dfcopy = finaldf.copy()\n",
    "dfcopy.columns = ['Province', 'Year', 'Type', 'Registrations', 'Population', 'RegPop', 'Total Incentive', 'Is Incentive', 'IncPop', 'EVReg']\n",
    "\n",
    "\n",
    "anov = ols('RegPop ~ Year', data=dfcopy.loc[(finaldf['Type']=='EV')&(finaldf['Year'].isin([2019,2020,2021,2022]))]).fit()\n",
    "anova_table = sm.stats.anova_lm(anov, typ=2)\n",
    "anova_table\n",
    "\n"
   ]
  },
  {
   "cell_type": "code",
   "execution_count": 24,
   "id": "4787fac0",
   "metadata": {},
   "outputs": [
    {
     "data": {
      "image/png": "[encoded data removed]",
      "text/plain": [
       "<Figure size 432x288 with 1 Axes>"
      ]
     },
     "metadata": {
      "needs_background": "light"
     },
     "output_type": "display_data"
    }
   ],
   "source": [
    "plot = sns.boxplot(data=finaldf.loc[finaldf['Type']=='EV'], x=\"Year\", y=\"Inc/Pop\", palette = sns.color_palette(\"mako\"))\n",
    "plot.set(title='Incentives Recieved per Capita')\n",
    "plot.set(xlabel='Year', ylabel='Incentives per Capita')\n",
    "plt.tight_layout()   \n",
    "plt.show()"
   ]
  },
  {
   "cell_type": "markdown",
   "id": "6a73dc2f",
   "metadata": {},
   "source": [
    "---\n",
    "\n",
    "## Linear Regression\n",
    "\n",
    "If we examine linear plots of the fraction of EV registrations compared to incentives per capita, we can see that there is a strong linear relationship between the two. There is an even stronger linear relationship between the EV reigstrations per capita and the incentives per capita, but this is not a very surprising result: the EV registrations per capita must increase with the incentives per capita because the incentives can only increase when people buy (and then register) an electric vehicle, but it is not so straightforward that the incentives should scale with the EV fraction. This relationship suggests that as more people purchase electric vehicles and recieve incentives for them, EV vehicles are simultaneously becoming more popular relative to conventional vehicles. "
   ]
  },
  {
   "cell_type": "code",
   "execution_count": 40,
   "id": "93fd87ad",
   "metadata": {},
   "outputs": [
    {
     "data": {
      "image/png": "[encoded data removed]",
      "text/plain": [
       "<Figure size 572.625x360 with 1 Axes>"
      ]
     },
     "metadata": {
      "needs_background": "light"
     },
     "output_type": "display_data"
    }
   ],
   "source": [
    "plot = sns.lmplot(data = finaldf.loc[finaldf['Type']=='EV'], x = 'Inc/Pop', y = 'EV/Reg', hue = 'Province', palette = sns.color_palette(\"mako\", 7))\n",
    "plot.set(title='EV per Registration vs. Incentives per Capita')\n",
    "plot.set(xlabel='Incentives per Capita', ylabel='EV per Registration')\n",
    "sns.move_legend(plot, \"lower left\", bbox_to_anchor=(.10, .55))\n",
    "plt.tight_layout() \n",
    "plt.show()\n",
    "\n",
    "# plot = sns.lmplot(data = finaldf.loc[finaldf['Type']=='EV'], x = 'Inc/Pop', y = 'Reg/Pop', hue = 'Province', palette = sns.color_palette(\"mako\", 7))\n",
    "# plot.set(title='Registrations per Capita vs. Incentives per Capita')\n",
    "# plot.set(xlabel='Incentives per Capita', ylabel='Registrations Per Capita')\n",
    "# sns.move_legend(plot, \"lower left\", bbox_to_anchor=(.10, .55))\n",
    "# plt.tight_layout() \n",
    "# plt.show()"
   ]
  },
  {
   "cell_type": "code",
   "execution_count": 44,
   "id": "b89516c4",
   "metadata": {},
   "outputs": [
    {
     "data": {
      "text/html": [
       "<table class=\"simpletable\">\n",
       "<caption>OLS Regression Results</caption>\n",
       "<tr>\n",
       "  <th>Dep. Variable:</th>     <td>EV/Reg</td>   <th>  R-squared:         </th> <td>   0.775</td>\n",
       "</tr>\n",
       "<tr>\n",
       "  <th>Model:</th>               <td>OLS</td>    <th>  Adj. R-squared:    </th> <td>   0.769</td>\n",
       "</tr>\n",
       "<tr>\n",
       "  <th>No. Observations:</th>  <td>    42</td>   <th>  F-statistic:       </th> <td>   137.7</td>\n",
       "</tr>\n",
       "<tr>\n",
       "  <th>Covariance Type:</th>  <td>nonrobust</td> <th>  Prob (F-statistic):</th> <td>1.58e-14</td>\n",
       "</tr>\n",
       "</table>\n",
       "<table class=\"simpletable\">\n",
       "<tr>\n",
       "     <td></td>        <th>coef</th>     <th>std err</th>      <th>t</th>      <th>P>|t|</th>  <th>[0.025</th>    <th>0.975]</th>  \n",
       "</tr>\n",
       "<tr>\n",
       "  <th>const</th>   <td>    0.0132</td> <td>    0.003</td> <td>    5.278</td> <td> 0.000</td> <td>    0.008</td> <td>    0.018</td>\n",
       "</tr>\n",
       "<tr>\n",
       "  <th>Inc/Pop</th> <td>    0.0049</td> <td>    0.000</td> <td>   11.734</td> <td> 0.000</td> <td>    0.004</td> <td>    0.006</td>\n",
       "</tr>\n",
       "</table><br/><br/>Notes:<br/>[1] Standard Errors assume that the covariance matrix of the errors is correctly specified."
      ],
      "text/plain": [
       "<class 'statsmodels.iolib.summary.Summary'>\n",
       "\"\"\"\n",
       "                            OLS Regression Results                            \n",
       "==============================================================================\n",
       "Dep. Variable:                 EV/Reg   R-squared:                       0.775\n",
       "Model:                            OLS   Adj. R-squared:                  0.769\n",
       "No. Observations:                  42   F-statistic:                     137.7\n",
       "Covariance Type:            nonrobust   Prob (F-statistic):           1.58e-14\n",
       "==============================================================================\n",
       "                 coef    std err          t      P>|t|      [0.025      0.975]\n",
       "------------------------------------------------------------------------------\n",
       "const          0.0132      0.003      5.278      0.000       0.008       0.018\n",
       "Inc/Pop        0.0049      0.000     11.734      0.000       0.004       0.006\n",
       "==============================================================================\n",
       "\n",
       "Notes:\n",
       "[1] Standard Errors assume that the covariance matrix of the errors is correctly specified.\n",
       "\"\"\""
      ]
     },
     "execution_count": 44,
     "metadata": {},
     "output_type": "execute_result"
    }
   ],
   "source": [
    "x = finaldf.loc[finaldf['Type']=='EV']['Inc/Pop']\n",
    "y = finaldf.loc[finaldf['Type']=='EV']['EV/Reg']\n",
    "\n",
    "x = sm.add_constant(x)\n",
    "results2 = sm.OLS(y,x).fit()\n",
    "results2.summary(slim = True)"
   ]
  },
  {
   "cell_type": "code",
   "execution_count": 27,
   "id": "e15c613d",
   "metadata": {},
   "outputs": [],
   "source": [
    "# x = finaldf.loc[finaldf['Type']=='EV']['Inc/Pop']\n",
    "# y = finaldf.loc[finaldf['Type']=='EV']['Reg/Pop']\n",
    "\n",
    "# x = sm.add_constant(x)\n",
    "# results2 = sm.OLS(y,x).fit()\n",
    "# results2.summary() "
   ]
  },
  {
   "cell_type": "code",
   "execution_count": 28,
   "id": "9fad0b05",
   "metadata": {},
   "outputs": [],
   "source": [
    "# fig = plt.figure(figsize=(6,6))\n",
    "# sm.graphics.plot_regress_exog(results2, 'Inc/Pop', fig = fig)\n",
    "\n",
    "# fig, ax = plt.subplots(figsize=(4, 4))\n",
    "# plot = sm.qqplot(results2.resid, stats.t, fit=True, line=\"45\",  ax = ax)\n",
    "# plt.tight_layout()   \n",
    "# plt.show()"
   ]
  },
  {
   "cell_type": "markdown",
   "id": "748a6e0d",
   "metadata": {},
   "source": [
    "---\n",
    "\n",
    "## Hypothesis Testing\n",
    "\n",
    "If we compare the distributions of EV and non-EV vehicles per capita registration, depending on whether they were registered during a period of time that the iZEV incentives were in place, it is possible to see that EV registrations are higher after the incentives came into place, and non-EV registrations were lower. This all combines to give us some motivation to determine if the incentives were specifically influenced by the iZEV incentives. The below t-tests show that there is a significant difference in the mean of the fraction of EV registrations before and after the incentives with an $\\alpha$ = 0.05. There is also significant result showing an increase in the EV registrations per capita, and a decrease in the non-EV registrations per capita over the same time periods. "
   ]
  },
  {
   "cell_type": "code",
   "execution_count": 29,
   "id": "2a5bfd93",
   "metadata": {},
   "outputs": [
    {
     "data": {
      "image/png": "[encoded data removed]",
      "text/plain": [
       "<Figure size 432x288 with 1 Axes>"
      ]
     },
     "metadata": {
      "needs_background": "light"
     },
     "output_type": "display_data"
    }
   ],
   "source": [
    "copy = finaldf.copy()\n",
    "# copy['EV/Reg']=np.sqrt(copy['EV/Reg'])\n",
    "\n",
    "# fig, (ax1, ax2) = plt.subplots(1, 2)\n",
    "\n",
    "plot = sns.histplot(data = copy.loc[copy['Type']=='EV'], x = 'EV/Reg', hue = 'Is Incentive', palette = sns.color_palette(\"mako\", 2))\n",
    "plot.set(title='Distribution of EV Registration Fraction')\n",
    "plot.set(xlabel='Fraction of EV Registrations', ylabel='Count')\n",
    "\n",
    "\n",
    "# plot = sns.histplot(data = copy.loc[copy['Type']=='Not EV'], x = 'EV/Reg', hue = 'Is Incentive', palette = sns.color_palette(\"mako\", 2), ax = ax2)\n",
    "# plot.set(title='Distribution of Non-EV Registrations Fraction')\n",
    "# plot.set(xlabel='Fraction of EV Registrations', ylabel='Count')\n",
    "\n",
    "\n",
    "plt.tight_layout() \n",
    "plt.show()"
   ]
  },
  {
   "cell_type": "code",
   "execution_count": 30,
   "id": "86cfc706",
   "metadata": {},
   "outputs": [
    {
     "data": {
      "text/html": [
       "<div>\n",
       "<style scoped>\n",
       "    .dataframe tbody tr th:only-of-type {\n",
       "        vertical-align: middle;\n",
       "    }\n",
       "\n",
       "    .dataframe tbody tr th {\n",
       "        vertical-align: top;\n",
       "    }\n",
       "\n",
       "    .dataframe thead th {\n",
       "        text-align: right;\n",
       "    }\n",
       "</style>\n",
       "<table border=\"1\" class=\"dataframe\">\n",
       "  <thead>\n",
       "    <tr style=\"text-align: right;\">\n",
       "      <th></th>\n",
       "      <th>T-test Statistic</th>\n",
       "      <th>p Value</th>\n",
       "    </tr>\n",
       "  </thead>\n",
       "  <tbody>\n",
       "    <tr>\n",
       "      <th>0</th>\n",
       "      <td>3.343128</td>\n",
       "      <td>0.001807</td>\n",
       "    </tr>\n",
       "  </tbody>\n",
       "</table>\n",
       "</div>"
      ],
      "text/plain": [
       "   T-test Statistic   p Value\n",
       "0          3.343128  0.001807"
      ]
     },
     "execution_count": 30,
     "metadata": {},
     "output_type": "execute_result"
    }
   ],
   "source": [
    "a = finaldf.loc[(finaldf['Type'] == 'EV') & (finaldf['Is Incentive'] == 'Yes')]['EV/Reg']\n",
    "b = finaldf.loc[(finaldf['Type'] == 'EV') & (finaldf['Is Incentive'] == 'No')]['EV/Reg']\n",
    "\n",
    "d = {'T-test Statistic': [ttest_ind(a,b)[0]], 'p Value': [ttest_ind(a,b)[1]]}\n",
    "df = pd.DataFrame(data=d)\n",
    "df"
   ]
  },
  {
   "cell_type": "code",
   "execution_count": 31,
   "id": "6c6672c1",
   "metadata": {},
   "outputs": [
    {
     "data": {
      "image/png": "[encoded data removed]",
      "text/plain": [
       "<Figure size 432x288 with 2 Axes>"
      ]
     },
     "metadata": {
      "needs_background": "light"
     },
     "output_type": "display_data"
    }
   ],
   "source": [
    "fig, (ax1, ax2) = plt.subplots(1, 2)\n",
    "\n",
    "plot = sns.histplot(data = finaldf.loc[finaldf['Type']=='EV'], x = 'Reg/Pop', hue = 'Is Incentive', palette = sns.color_palette(\"mako\", 2), ax = ax1)\n",
    "plot.set(title='Distribution of EV Registrations \\n per Capita')\n",
    "plot.set(xlabel='Registrations per Capita', ylabel='Count')\n",
    "\n",
    "\n",
    "plot = sns.histplot(data = finaldf.loc[finaldf['Type']=='Not EV'], x = 'Reg/Pop', hue = 'Is Incentive', palette = sns.color_palette(\"mako\", 2), ax = ax2)\n",
    "plot.set(title='Distribution of Non-EV Registrations \\n per Capita')\n",
    "plot.set(xlabel='Registrations per Capita', ylabel='Count')\n",
    "\n",
    "\n",
    "plt.tight_layout() \n",
    "plt.show()"
   ]
  },
  {
   "cell_type": "code",
   "execution_count": 32,
   "id": "06dfa7ac",
   "metadata": {},
   "outputs": [
    {
     "data": {
      "text/html": [
       "<div>\n",
       "<style scoped>\n",
       "    .dataframe tbody tr th:only-of-type {\n",
       "        vertical-align: middle;\n",
       "    }\n",
       "\n",
       "    .dataframe tbody tr th {\n",
       "        vertical-align: top;\n",
       "    }\n",
       "\n",
       "    .dataframe thead th {\n",
       "        text-align: right;\n",
       "    }\n",
       "</style>\n",
       "<table border=\"1\" class=\"dataframe\">\n",
       "  <thead>\n",
       "    <tr style=\"text-align: right;\">\n",
       "      <th></th>\n",
       "      <th>T-test Statistic</th>\n",
       "      <th>p Value</th>\n",
       "    </tr>\n",
       "  </thead>\n",
       "  <tbody>\n",
       "    <tr>\n",
       "      <th>0</th>\n",
       "      <td>3.147916</td>\n",
       "      <td>0.003104</td>\n",
       "    </tr>\n",
       "  </tbody>\n",
       "</table>\n",
       "</div>"
      ],
      "text/plain": [
       "   T-test Statistic   p Value\n",
       "0          3.147916  0.003104"
      ]
     },
     "execution_count": 32,
     "metadata": {},
     "output_type": "execute_result"
    }
   ],
   "source": [
    "a = finaldf.loc[(finaldf['Type'] == 'EV') & (finaldf['Is Incentive'] == 'Yes')]['Reg/Pop']\n",
    "b = finaldf.loc[(finaldf['Type'] == 'EV') & (finaldf['Is Incentive'] == 'No')]['Reg/Pop']\n",
    "\n",
    "d = {'T-test Statistic': [ttest_ind(a,b)[0]], 'p Value': [ttest_ind(a,b)[1]]}\n",
    "df = pd.DataFrame(data=d)\n",
    "df"
   ]
  },
  {
   "cell_type": "code",
   "execution_count": 33,
   "id": "d44bd0d8",
   "metadata": {},
   "outputs": [
    {
     "data": {
      "text/html": [
       "<div>\n",
       "<style scoped>\n",
       "    .dataframe tbody tr th:only-of-type {\n",
       "        vertical-align: middle;\n",
       "    }\n",
       "\n",
       "    .dataframe tbody tr th {\n",
       "        vertical-align: top;\n",
       "    }\n",
       "\n",
       "    .dataframe thead th {\n",
       "        text-align: right;\n",
       "    }\n",
       "</style>\n",
       "<table border=\"1\" class=\"dataframe\">\n",
       "  <thead>\n",
       "    <tr style=\"text-align: right;\">\n",
       "      <th></th>\n",
       "      <th>T-test Statistic</th>\n",
       "      <th>p Value</th>\n",
       "    </tr>\n",
       "  </thead>\n",
       "  <tbody>\n",
       "    <tr>\n",
       "      <th>0</th>\n",
       "      <td>-4.796601</td>\n",
       "      <td>0.000023</td>\n",
       "    </tr>\n",
       "  </tbody>\n",
       "</table>\n",
       "</div>"
      ],
      "text/plain": [
       "   T-test Statistic   p Value\n",
       "0         -4.796601  0.000023"
      ]
     },
     "execution_count": 33,
     "metadata": {},
     "output_type": "execute_result"
    }
   ],
   "source": [
    "a = finaldf.loc[(finaldf['Type'] == 'Not EV') & (finaldf['Is Incentive'] == 'Yes')]['Reg/Pop']\n",
    "b = finaldf.loc[(finaldf['Type'] == 'Not EV') & (finaldf['Is Incentive'] == 'No')]['Reg/Pop']\n",
    "\n",
    "d = {'T-test Statistic': [ttest_ind(a,b)[0]], 'p Value': [ttest_ind(a,b)[1]]}\n",
    "df = pd.DataFrame(data=d)\n",
    "df"
   ]
  },
  {
   "cell_type": "markdown",
   "id": "99da0ae6",
   "metadata": {},
   "source": [
    "However, looking at year-to-year comparisons instead of simply comparing the before and after periods shows that there is no significant difference in the jump from 2018 to 2019 - or in an individual year - which casts doubt on the idea that the iZEV incentives are specifically responsible for the difference noted above, instead of simply the trend of increased popularity of EV that can be seen in the yearly registration data."
   ]
  },
  {
   "cell_type": "code",
   "execution_count": 34,
   "id": "3feaa112",
   "metadata": {},
   "outputs": [
    {
     "data": {
      "text/html": [
       "<div>\n",
       "<style scoped>\n",
       "    .dataframe tbody tr th:only-of-type {\n",
       "        vertical-align: middle;\n",
       "    }\n",
       "\n",
       "    .dataframe tbody tr th {\n",
       "        vertical-align: top;\n",
       "    }\n",
       "\n",
       "    .dataframe thead th {\n",
       "        text-align: right;\n",
       "    }\n",
       "</style>\n",
       "<table border=\"1\" class=\"dataframe\">\n",
       "  <thead>\n",
       "    <tr style=\"text-align: right;\">\n",
       "      <th></th>\n",
       "      <th>Years</th>\n",
       "      <th>p Value of T-test</th>\n",
       "    </tr>\n",
       "  </thead>\n",
       "  <tbody>\n",
       "    <tr>\n",
       "      <th>0</th>\n",
       "      <td>2017-2018</td>\n",
       "      <td>0.345220</td>\n",
       "    </tr>\n",
       "    <tr>\n",
       "      <th>1</th>\n",
       "      <td>2018-2019</td>\n",
       "      <td>0.368296</td>\n",
       "    </tr>\n",
       "    <tr>\n",
       "      <th>2</th>\n",
       "      <td>2019-2020</td>\n",
       "      <td>0.680797</td>\n",
       "    </tr>\n",
       "    <tr>\n",
       "      <th>3</th>\n",
       "      <td>2020-2021</td>\n",
       "      <td>0.200511</td>\n",
       "    </tr>\n",
       "    <tr>\n",
       "      <th>4</th>\n",
       "      <td>2021-2022</td>\n",
       "      <td>0.459965</td>\n",
       "    </tr>\n",
       "  </tbody>\n",
       "</table>\n",
       "</div>"
      ],
      "text/plain": [
       "       Years  p Value of T-test\n",
       "0  2017-2018           0.345220\n",
       "1  2018-2019           0.368296\n",
       "2  2019-2020           0.680797\n",
       "3  2020-2021           0.200511\n",
       "4  2021-2022           0.459965"
      ]
     },
     "execution_count": 34,
     "metadata": {},
     "output_type": "execute_result"
    }
   ],
   "source": [
    "t = []\n",
    "for y in [2017,2018,2019,2020,2021]:\n",
    "    a = finaldf.loc[(finaldf['Type'] == 'EV') & (finaldf['Year'] == y)]['EV/Reg']\n",
    "    b = finaldf.loc[(finaldf['Type'] == 'EV') & (finaldf['Year'] == y+1)]['EV/Reg']\n",
    "    t.append(ttest_ind(a,b)[1])\n",
    "\n",
    "d = {'Years': ['2017-2018','2018-2019','2019-2020','2020-2021','2021-2022'], 'p Value of T-test': t}\n",
    "df = pd.DataFrame(data=d)\n",
    "df"
   ]
  },
  {
   "cell_type": "code",
   "execution_count": 35,
   "id": "a8943ece",
   "metadata": {
    "scrolled": true
   },
   "outputs": [
    {
     "data": {
      "text/html": [
       "<div>\n",
       "<style scoped>\n",
       "    .dataframe tbody tr th:only-of-type {\n",
       "        vertical-align: middle;\n",
       "    }\n",
       "\n",
       "    .dataframe tbody tr th {\n",
       "        vertical-align: top;\n",
       "    }\n",
       "\n",
       "    .dataframe thead th {\n",
       "        text-align: right;\n",
       "    }\n",
       "</style>\n",
       "<table border=\"1\" class=\"dataframe\">\n",
       "  <thead>\n",
       "    <tr style=\"text-align: right;\">\n",
       "      <th></th>\n",
       "      <th>Years</th>\n",
       "      <th>p Value of T-test</th>\n",
       "    </tr>\n",
       "  </thead>\n",
       "  <tbody>\n",
       "    <tr>\n",
       "      <th>0</th>\n",
       "      <td>2017-2018</td>\n",
       "      <td>0.394222</td>\n",
       "    </tr>\n",
       "    <tr>\n",
       "      <th>1</th>\n",
       "      <td>2018-2019</td>\n",
       "      <td>0.407797</td>\n",
       "    </tr>\n",
       "    <tr>\n",
       "      <th>2</th>\n",
       "      <td>2019-2020</td>\n",
       "      <td>0.983043</td>\n",
       "    </tr>\n",
       "    <tr>\n",
       "      <th>3</th>\n",
       "      <td>2020-2021</td>\n",
       "      <td>0.114218</td>\n",
       "    </tr>\n",
       "    <tr>\n",
       "      <th>4</th>\n",
       "      <td>2021-2022</td>\n",
       "      <td>0.851350</td>\n",
       "    </tr>\n",
       "  </tbody>\n",
       "</table>\n",
       "</div>"
      ],
      "text/plain": [
       "       Years  p Value of T-test\n",
       "0  2017-2018           0.394222\n",
       "1  2018-2019           0.407797\n",
       "2  2019-2020           0.983043\n",
       "3  2020-2021           0.114218\n",
       "4  2021-2022           0.851350"
      ]
     },
     "execution_count": 35,
     "metadata": {},
     "output_type": "execute_result"
    }
   ],
   "source": [
    "t = []\n",
    "for y in [2017,2018,2019,2020,2021]:\n",
    "    a = finaldf.loc[(finaldf['Type'] == 'EV') & (finaldf['Year'] == y)]['Reg/Pop']\n",
    "    b = finaldf.loc[(finaldf['Type'] == 'EV') & (finaldf['Year'] == y+1)]['Reg/Pop']\n",
    "    t.append(ttest_ind(a,b)[1])\n",
    "    \n",
    "d = {'Years': ['2017-2018','2018-2019','2019-2020','2020-2021','2021-2022'], 'p Value of T-test': t}\n",
    "df = pd.DataFrame(data=d)\n",
    "df"
   ]
  },
  {
   "cell_type": "markdown",
   "id": "1e164df9",
   "metadata": {},
   "source": [
    "---\n",
    "\n",
    "## Conclusions\n",
    "\n",
    "While it is certainly the case that electric vehicles have increased in popularity over the years from 2017-2022, and there is a correlation between the increase and the iZEV incentive program, there does not appear to be strong evidence that the incentive program itself had a significant effect. If it had had an effect, we would probably expect to see a particularly large increase in EV registrations in the year or two after they came into effect, and while there is an increase, there does not seem to be anything special about the jump from 2018-2019. "
   ]
  },
  {
   "cell_type": "markdown",
   "id": "d03f62ec",
   "metadata": {},
   "source": [
    "<br>\n",
    "<br>\n",
    "<br>\n",
    "<br>\n",
    "\n",
    "---\n",
    "\n",
    "## Appendix: Data Samples"
   ]
  },
  {
   "cell_type": "code",
   "execution_count": 52,
   "id": "6889d1cf",
   "metadata": {},
   "outputs": [
    {
     "data": {
      "text/html": [
       "<div>\n",
       "<style scoped>\n",
       "    .dataframe tbody tr th:only-of-type {\n",
       "        vertical-align: middle;\n",
       "    }\n",
       "\n",
       "    .dataframe tbody tr th {\n",
       "        vertical-align: top;\n",
       "    }\n",
       "\n",
       "    .dataframe thead th {\n",
       "        text-align: right;\n",
       "    }\n",
       "</style>\n",
       "<table border=\"1\" class=\"dataframe\">\n",
       "  <thead>\n",
       "    <tr style=\"text-align: right;\">\n",
       "      <th></th>\n",
       "      <th>Province</th>\n",
       "      <th>Year</th>\n",
       "      <th>Type</th>\n",
       "      <th>Registrations</th>\n",
       "      <th>Population</th>\n",
       "      <th>Reg/Pop</th>\n",
       "      <th>Total Incentive</th>\n",
       "      <th>Is Incentive</th>\n",
       "      <th>Inc/Pop</th>\n",
       "      <th>EV/Reg</th>\n",
       "    </tr>\n",
       "  </thead>\n",
       "  <tbody>\n",
       "    <tr>\n",
       "      <th>0</th>\n",
       "      <td>British Columbia and the Territories</td>\n",
       "      <td>2017</td>\n",
       "      <td>EV</td>\n",
       "      <td>16888.0</td>\n",
       "      <td>5082181</td>\n",
       "      <td>0.003323</td>\n",
       "      <td>0.000000e+00</td>\n",
       "      <td>No</td>\n",
       "      <td>0.000000</td>\n",
       "      <td>0.017339</td>\n",
       "    </tr>\n",
       "    <tr>\n",
       "      <th>1</th>\n",
       "      <td>British Columbia and the Territories</td>\n",
       "      <td>2017</td>\n",
       "      <td>Not EV</td>\n",
       "      <td>973984.0</td>\n",
       "      <td>5082181</td>\n",
       "      <td>0.191647</td>\n",
       "      <td>0.000000e+00</td>\n",
       "      <td>No</td>\n",
       "      <td>0.000000</td>\n",
       "      <td>0.017339</td>\n",
       "    </tr>\n",
       "    <tr>\n",
       "      <th>2</th>\n",
       "      <td>British Columbia and the Territories</td>\n",
       "      <td>2018</td>\n",
       "      <td>EV</td>\n",
       "      <td>28828.0</td>\n",
       "      <td>5082181</td>\n",
       "      <td>0.005672</td>\n",
       "      <td>0.000000e+00</td>\n",
       "      <td>No</td>\n",
       "      <td>0.000000</td>\n",
       "      <td>0.032335</td>\n",
       "    </tr>\n",
       "    <tr>\n",
       "      <th>3</th>\n",
       "      <td>British Columbia and the Territories</td>\n",
       "      <td>2018</td>\n",
       "      <td>Not EV</td>\n",
       "      <td>891544.0</td>\n",
       "      <td>5082181</td>\n",
       "      <td>0.175425</td>\n",
       "      <td>0.000000e+00</td>\n",
       "      <td>No</td>\n",
       "      <td>0.000000</td>\n",
       "      <td>0.032335</td>\n",
       "    </tr>\n",
       "    <tr>\n",
       "      <th>4</th>\n",
       "      <td>British Columbia and the Territories</td>\n",
       "      <td>2019</td>\n",
       "      <td>EV</td>\n",
       "      <td>51156.0</td>\n",
       "      <td>5082181</td>\n",
       "      <td>0.010066</td>\n",
       "      <td>4.532182e+07</td>\n",
       "      <td>Yes</td>\n",
       "      <td>11.890387</td>\n",
       "      <td>0.062321</td>\n",
       "    </tr>\n",
       "  </tbody>\n",
       "</table>\n",
       "</div>"
      ],
      "text/plain": [
       "                               Province  Year    Type  Registrations  \\\n",
       "0  British Columbia and the Territories  2017      EV        16888.0   \n",
       "1  British Columbia and the Territories  2017  Not EV       973984.0   \n",
       "2  British Columbia and the Territories  2018      EV        28828.0   \n",
       "3  British Columbia and the Territories  2018  Not EV       891544.0   \n",
       "4  British Columbia and the Territories  2019      EV        51156.0   \n",
       "\n",
       "   Population   Reg/Pop  Total Incentive Is Incentive    Inc/Pop    EV/Reg  \n",
       "0     5082181  0.003323     0.000000e+00           No   0.000000  0.017339  \n",
       "1     5082181  0.191647     0.000000e+00           No   0.000000  0.017339  \n",
       "2     5082181  0.005672     0.000000e+00           No   0.000000  0.032335  \n",
       "3     5082181  0.175425     0.000000e+00           No   0.000000  0.032335  \n",
       "4     5082181  0.010066     4.532182e+07          Yes  11.890387  0.062321  "
      ]
     },
     "execution_count": 52,
     "metadata": {},
     "output_type": "execute_result"
    }
   ],
   "source": [
    "finaldf.head(5)"
   ]
  },
  {
   "cell_type": "code",
   "execution_count": 46,
   "id": "04eb0a9d",
   "metadata": {},
   "outputs": [
    {
     "data": {
      "text/html": [
       "<div>\n",
       "<style scoped>\n",
       "    .dataframe tbody tr th:only-of-type {\n",
       "        vertical-align: middle;\n",
       "    }\n",
       "\n",
       "    .dataframe tbody tr th {\n",
       "        vertical-align: top;\n",
       "    }\n",
       "\n",
       "    .dataframe thead th {\n",
       "        text-align: right;\n",
       "    }\n",
       "</style>\n",
       "<table border=\"1\" class=\"dataframe\">\n",
       "  <thead>\n",
       "    <tr style=\"text-align: right;\">\n",
       "      <th></th>\n",
       "      <th>Province</th>\n",
       "      <th>Year</th>\n",
       "      <th>Type</th>\n",
       "      <th>Registrations</th>\n",
       "      <th>Population</th>\n",
       "      <th>Reg/Pop</th>\n",
       "      <th>Total Incentive</th>\n",
       "      <th>Is Incentive</th>\n",
       "      <th>Inc/Pop</th>\n",
       "      <th>EV/Reg</th>\n",
       "    </tr>\n",
       "  </thead>\n",
       "  <tbody>\n",
       "    <tr>\n",
       "      <th>79</th>\n",
       "      <td>Saskatchewan</td>\n",
       "      <td>2020</td>\n",
       "      <td>Not EV</td>\n",
       "      <td>177132.000000</td>\n",
       "      <td>1132505</td>\n",
       "      <td>0.156407</td>\n",
       "      <td>449374.999988</td>\n",
       "      <td>Yes</td>\n",
       "      <td>0.396797</td>\n",
       "      <td>0.009055</td>\n",
       "    </tr>\n",
       "    <tr>\n",
       "      <th>80</th>\n",
       "      <td>Saskatchewan</td>\n",
       "      <td>2021</td>\n",
       "      <td>EV</td>\n",
       "      <td>4014.000000</td>\n",
       "      <td>1132505</td>\n",
       "      <td>0.003544</td>\n",
       "      <td>875000.000000</td>\n",
       "      <td>Yes</td>\n",
       "      <td>0.772624</td>\n",
       "      <td>0.022892</td>\n",
       "    </tr>\n",
       "    <tr>\n",
       "      <th>81</th>\n",
       "      <td>Saskatchewan</td>\n",
       "      <td>2021</td>\n",
       "      <td>Not EV</td>\n",
       "      <td>175342.000000</td>\n",
       "      <td>1132505</td>\n",
       "      <td>0.154827</td>\n",
       "      <td>875000.000000</td>\n",
       "      <td>Yes</td>\n",
       "      <td>0.772624</td>\n",
       "      <td>0.022892</td>\n",
       "    </tr>\n",
       "    <tr>\n",
       "      <th>82</th>\n",
       "      <td>Saskatchewan</td>\n",
       "      <td>2022</td>\n",
       "      <td>EV</td>\n",
       "      <td>4326.815478</td>\n",
       "      <td>1132505</td>\n",
       "      <td>0.003821</td>\n",
       "      <td>955000.000000</td>\n",
       "      <td>Yes</td>\n",
       "      <td>1.264895</td>\n",
       "      <td>0.026940</td>\n",
       "    </tr>\n",
       "    <tr>\n",
       "      <th>83</th>\n",
       "      <td>Saskatchewan</td>\n",
       "      <td>2022</td>\n",
       "      <td>Not EV</td>\n",
       "      <td>160607.803536</td>\n",
       "      <td>1132505</td>\n",
       "      <td>0.141816</td>\n",
       "      <td>955000.000000</td>\n",
       "      <td>Yes</td>\n",
       "      <td>1.264895</td>\n",
       "      <td>0.026940</td>\n",
       "    </tr>\n",
       "  </tbody>\n",
       "</table>\n",
       "</div>"
      ],
      "text/plain": [
       "        Province  Year    Type  Registrations  Population   Reg/Pop  \\\n",
       "79  Saskatchewan  2020  Not EV  177132.000000     1132505  0.156407   \n",
       "80  Saskatchewan  2021      EV    4014.000000     1132505  0.003544   \n",
       "81  Saskatchewan  2021  Not EV  175342.000000     1132505  0.154827   \n",
       "82  Saskatchewan  2022      EV    4326.815478     1132505  0.003821   \n",
       "83  Saskatchewan  2022  Not EV  160607.803536     1132505  0.141816   \n",
       "\n",
       "    Total Incentive Is Incentive   Inc/Pop    EV/Reg  \n",
       "79    449374.999988          Yes  0.396797  0.009055  \n",
       "80    875000.000000          Yes  0.772624  0.022892  \n",
       "81    875000.000000          Yes  0.772624  0.022892  \n",
       "82    955000.000000          Yes  1.264895  0.026940  \n",
       "83    955000.000000          Yes  1.264895  0.026940  "
      ]
     },
     "execution_count": 46,
     "metadata": {},
     "output_type": "execute_result"
    }
   ],
   "source": [
    "finaldf.tail(5)"
   ]
  }
 ],
 "metadata": {
  "celltoolbar": "Tags",
  "hide_input": false,
  "kernelspec": {
   "display_name": "Python 3 (ipykernel)",
   "language": "python",
   "name": "python3"
  },
  "language_info": {
   "codemirror_mode": {
    "name": "ipython",
    "version": 3
   },
   "file_extension": ".py",
   "mimetype": "text/x-python",
   "name": "python",
   "nbconvert_exporter": "python",
   "pygments_lexer": "ipython3",
   "version": "3.9.12"
  }
 },
 "nbformat": 4,
 "nbformat_minor": 5
}
