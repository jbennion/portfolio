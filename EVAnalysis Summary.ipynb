{
 "cells": [
  {
   "cell_type": "code",
   "execution_count": 1,
   "id": "d073f790",
   "metadata": {},
   "outputs": [],
   "source": [
    "import pandas as pd\n",
    "import numpy as np\n",
    "from pandas_ods_reader import read_ods\n",
    "import re\n",
    "import matplotlib.pyplot as plt\n",
    "import seaborn as sns\n",
    "\n",
    "import scipy.stats as stats\n",
    "import statsmodels.api as sm\n",
    "from statsmodels.formula.api import ols\n",
    "\n",
    "from scipy.stats import ttest_rel\n",
    "from scipy.stats import ttest_ind"
   ]
  },
  {
   "cell_type": "code",
   "execution_count": 2,
   "id": "31fe8cdc",
   "metadata": {},
   "outputs": [],
   "source": [
    "fpath = 'izev-wsts-_september_2022_stats_for_web_publishing-en.ods'\n",
    "\n",
    "sheet_index = 1\n",
    "dfinc = read_ods(fpath, sheet_index)\n",
    "\n",
    "fpath2 = '20100024.csv' \n",
    "dfreg = pd.read_csv(fpath2)\n",
    "\n",
    "fpath3 = 'provinces.csv'\n",
    "dfprov = pd.read_csv(fpath3, index_col = 'Name')\n"
   ]
  },
  {
   "cell_type": "code",
   "execution_count": 3,
   "id": "2cd9975b",
   "metadata": {},
   "outputs": [],
   "source": [
    "test = dfreg.copy()\n",
    "test['REF_DATE'].replace('\\d\\d\\d\\d-', '', regex = True, inplace = True)\n",
    "test['REF_DATE']=test['REF_DATE'].astype('int32')\n",
    "\n",
    "test = test.loc[test['GEO']=='Canada'].groupby(['REF_DATE']).sum().reset_index()\n",
    "\n",
    "regfraction = (test['VALUE'].sum())/(test.loc[1,'VALUE'] + test.loc[0,'VALUE'])"
   ]
  },
  {
   "cell_type": "code",
   "execution_count": 4,
   "id": "799bd073",
   "metadata": {},
   "outputs": [],
   "source": [
    "test2 = dfinc.copy()\n",
    "test2.loc[test2['Calendar Year'].isin([2020,2021])]\n",
    "test2['Month and Year '].replace(' .*', '', regex = True, inplace = True)\n",
    "\n",
    "monthmap = {'January':1,'February':2,'March':3,'April':4,'May':5,'June':6,'July':7,'August':8,'September':9,'October':10,'November':11,'December':12}\n",
    "\n",
    "test2['Month and Year '] = test2['Month and Year '].map(monthmap)\n",
    "\n",
    "test2 = test2.groupby(['Month and Year ']).sum().reset_index()\n",
    "\n",
    "incfraction2019 = test2['Eligible Incentive Amount'].sum()/test2.loc[5:12,'Eligible Incentive Amount'].sum()\n",
    "incfraction2022 = test2['Eligible Incentive Amount'].sum()/test2.loc[1:9,'Eligible Incentive Amount'].sum()\n"
   ]
  },
  {
   "cell_type": "code",
   "execution_count": 5,
   "id": "a7f7b91d",
   "metadata": {},
   "outputs": [],
   "source": [
    "provmap = {'British Columbia':'British Columbia and the Territories'\n",
    "           , 'Northwest Territories':'British Columbia and the Territories'\n",
    "           , 'Yukon':'British Columbia and the Territories'\n",
    "           , 'Quebec':'Quebec'\n",
    "           , 'Ontario':'Ontario'\n",
    "           , 'Manitoba':'Manitoba'\n",
    "           , 'New Brunswick':'New Brunswick'\n",
    "           , 'Saskatchewan':'Saskatchewan'\n",
    "           , 'Nova Scotia':'Nova Scotia'\n",
    "           , 'Alberta':'Alberta'\n",
    "           , 'Prince Edward Island':'Prince Edward Island'\n",
    "           , 'Newfoundland and Labrador':'Newfoundland and Labrador'}\n",
    "\n",
    "popmap = dfprov['Population Total'].to_dict()\n",
    "\n",
    "provlist = ['Prince Edward Island', 'New Brunswick', 'Quebec', 'Ontario', 'Manitoba', 'Saskatchewan', 'British Columbia and the Territories']\n",
    "yearlist = [2019,2020,2021,2022]\n",
    "          \n",
    "\n",
    "dfinc['Recipient Province / Territory ']=dfinc['Recipient Province / Territory '].map(provmap)"
   ]
  },
  {
   "cell_type": "code",
   "execution_count": 6,
   "id": "b58ecda5",
   "metadata": {},
   "outputs": [],
   "source": [
    "dfinc['Calendar Year']=dfinc['Calendar Year'].astype('int32')\n",
    "dfreg['REF_DATE'].replace('-\\d\\d', '', regex = True, inplace = True)\n",
    "dfreg['REF_DATE']=dfreg['REF_DATE'].astype('int32')"
   ]
  },
  {
   "cell_type": "code",
   "execution_count": 7,
   "id": "db5d2760",
   "metadata": {},
   "outputs": [],
   "source": [
    "incentive = dfinc.iloc[:,[3,7,10,11]]\n",
    "incentive.columns=['Year','Type','Total Incentive','Province']\n",
    "incentive = incentive.loc[incentive['Province'].isin(provlist)]"
   ]
  },
  {
   "cell_type": "code",
   "execution_count": 8,
   "id": "ec8dc287",
   "metadata": {
    "scrolled": true
   },
   "outputs": [],
   "source": [
    "register = dfreg.iloc[:,[0,1,3,12]]\n",
    "register.columns=['Year','Province','Type','Registrations']\n",
    "register = register.loc[register['Province'].isin(provlist)]"
   ]
  },
  {
   "cell_type": "code",
   "execution_count": 9,
   "id": "0a77d033",
   "metadata": {},
   "outputs": [],
   "source": [
    "register['Type'] = register['Type'].map({'All fuel types':'Not EV', 'Gasoline':'Not EV', 'Diesel':'Not EV', 'Battery electric':'EV',\n",
    "       'Hybrid electric':'EV', 'Plug-in hybrid electric':'EV', 'Other fuel types':'Not EV'})"
   ]
  },
  {
   "cell_type": "code",
   "execution_count": 10,
   "id": "66545879",
   "metadata": {},
   "outputs": [],
   "source": [
    "finalreg = register.groupby(['Province','Year','Type'])['Registrations'].apply('sum').reset_index()\n",
    "finalinc = incentive.groupby(['Province','Year']).sum().reset_index()"
   ]
  },
  {
   "cell_type": "code",
   "execution_count": 11,
   "id": "6b3f2e81",
   "metadata": {},
   "outputs": [],
   "source": [
    "finalreg['Population'] = finalreg['Province'].map(popmap)\n",
    "finalreg['Reg/Pop'] = finalreg['Registrations']/finalreg['Population']"
   ]
  },
  {
   "cell_type": "code",
   "execution_count": 12,
   "id": "ad252cd5",
   "metadata": {
    "scrolled": false
   },
   "outputs": [],
   "source": [
    "finaldf = pd.merge(finalreg, finalinc, on=['Province', 'Year'], how = 'outer').fillna(0)\n",
    "\n",
    "def incMap(n):\n",
    "    if n == 0:\n",
    "        return 'No'\n",
    "    else:\n",
    "        return 'Yes'          \n",
    "\n",
    "finaldf['Is Incentive'] = finaldf['Total Incentive'].map(incMap)\n",
    "finaldf['Inc/Pop'] = finaldf['Total Incentive']/finaldf['Population']"
   ]
  },
  {
   "cell_type": "code",
   "execution_count": 13,
   "id": "35cbe7fa",
   "metadata": {},
   "outputs": [],
   "source": [
    "finaldf.loc[finaldf['Year'] == 2022,'Registrations'] *= regfraction\n",
    "finaldf.loc[finaldf['Year'] == 2022,'Reg/Pop'] *= regfraction\n",
    "# finaldf.loc[finaldf['Year'] == 2022,'Inc/Pop'] *= incfraction2022\n",
    "# finaldf.loc[finaldf['Year'] == 2019,'Inc/Pop'] *= incfraction2019\n",
    "finaldf.loc[finaldf['Year'] == 2022,'Inc/Pop'] *= 3/2\n",
    "finaldf.loc[finaldf['Year'] == 2019,'Inc/Pop'] *= 4/3"
   ]
  },
  {
   "cell_type": "code",
   "execution_count": 14,
   "id": "f587dfff",
   "metadata": {},
   "outputs": [],
   "source": [
    "er = finaldf.loc[finaldf['Type']=='EV'].reset_index()['Registrations']/finaldf.loc[finaldf['Type']=='Not EV'].reset_index()['Registrations']\n",
    "\n",
    "finaldf['EV/Reg'] = np.repeat(er.values,2)"
   ]
  },
  {
   "cell_type": "markdown",
   "id": "38cda58c",
   "metadata": {},
   "source": [
    "# Electric Vehicle Incentives Analysis\n",
    "---\n",
    "## Objectives and Data Preparation\n",
    "\n",
    "We wanted to discover how effective the Incentives for Zero-Emission Vehicles (iZEV) program has been at encouraging Canadian consumers to purchase electric vehicles as apposed to traditional ones. The data that we were interested in analyzing were data related to the number of vehicles registered in Canada in the years before and after the IZEV program was intruduced. We also wanted to look at how popular the iZEC program is, how much it has been used and how the incentives offered through the program have been related to the change in vehicle registrations.\n",
    "\n",
    "Data about new vehicle registrations in Canada was retrieved from Statistics Canada. The data included the number of vehicle registrations in each province, for the years 2017-2022, sorted by vehicle type. Data was not available for Alberta, Newfoundland or New Brunswick. The data was downloaded as a .csv file from the Statistics Canada website. Data related to the economic incentives granted by the iZEV program was also retrieved from the government of Canada's Open Government Portal. The data summarizes all instances of incentives recieved by consumers, sorted by province and vehicle type. The data was also downloaded as a .csv file from the Government of Canada Open Government website."
   ]
  },
  {
   "cell_type": "code",
   "execution_count": 15,
   "id": "9eb65ed2",
   "metadata": {},
   "outputs": [],
   "source": [
    "# test2 = dfinc.copy()\n",
    "# test2.loc[test2['Calendar Year'].isin([2020,2021])]\n",
    "# test2['Month and Year '].replace(' .*', '', regex = True, inplace = True)\n",
    "\n",
    "# monthmap = {'January':1,'February':2,'March':3,'April':4,'May':5,'June':6,'July':7,'August':8,'September':9,'October':10,'November':11,'December':12}\n",
    "\n",
    "# test2['Month and Year '] = test2['Month and Year '].map(monthmap)\n",
    "\n",
    "# anov = ols('VALUE ~ REF_DATE', data=test).fit()\n",
    "# anova_table = sm.stats.anova_lm(anov, typ=2)\n",
    "# anova_table"
   ]
  },
  {
   "cell_type": "markdown",
   "id": "0ae710c1",
   "metadata": {},
   "source": [
    "---\n",
    "##  Initial Analysis\n",
    "\n",
    "The first step in the analysis was to examine the trends that took place over the 2017-2022 period that was being examined. By looking first at the change in the fraction of vehicle regitrations that are EVs, and the EV and non-EV registrations per capita, several trends become clear. Not only has the fraction of vehicles that are EVS consistently been increasing, but the raw number of EV registrations per capita has been increasing, while the non-EV registrations have been decreasing. It can be seen there is a clear trend towards more  EV registrations and a higher fraction of EV vehicles. "
   ]
  },
  {
   "cell_type": "code",
   "execution_count": 51,
   "id": "a4f626c9",
   "metadata": {},
   "outputs": [
    {
     "data": {
      "image/png": "[encoded data removed]",
      "text/plain": [
       "<Figure size 432x216 with 3 Axes>"
      ]
     },
     "metadata": {},
     "output_type": "display_data"
    }
   ],
   "source": [
    "fig, (ax1, ax2, ax3) = plt.subplots(1, 3)\n",
    "\n",
    "sns.set(rc={'figure.figsize':(6,4)})\n",
    "\n",
    "plot = sns.boxplot(data=finaldf.loc[finaldf['Type']=='EV'], x=\"Year\", y=\"EV/Reg\", palette = sns.color_palette(\"mako\"), ax = ax1)\n",
    "plot.set(title='Fraction of Vehicle \\n Registrations that are EVs')\n",
    "plot.set(xlabel='Year', ylabel='EV/Registration')\n",
    "plt.setp(plot.get_xticklabels(), rotation=90)\n",
    "\n",
    "plot = sns.boxplot(data=finaldf.loc[finaldf['Type']=='EV'], x=\"Year\", y=\"Reg/Pop\", palette = sns.color_palette(\"mako\"), ax = ax2)\n",
    "plot.set(title='EV Registration \\n per Capita')\n",
    "plot.set(xlabel='Year', ylabel='EV Registration per Capita')\n",
    "plt.setp(plot.get_xticklabels(), rotation=90)\n",
    "\n",
    "plot = sns.boxplot(data=finaldf.loc[finaldf['Type']=='Not EV'], x=\"Year\", y=\"Reg/Pop\", palette = sns.color_palette(\"mako\"), ax = ax3)\n",
    "plot.set(title='Non-EV Registration \\n per Capita')\n",
    "plot.set(xlabel='Year', ylabel='Non-EV Registration per Capita')\n",
    "plt.setp(plot.get_xticklabels(), rotation=90)\n",
    "\n",
    "plt.tight_layout()\n",
    "plt.show()"
   ]
  },
  {
   "cell_type": "markdown",
   "id": "748a6e0d",
   "metadata": {},
   "source": [
    "---\n",
    "## Hypothesis Testing\n",
    "\n",
    "If we compare the distributions of EV and non-EV vehicles per capita registration, depending on whether they were registered during a period of time that the iZEV incentives were in place, it is possible to see that EV registrations are higher after the incentives came into place, and non-EV registrations were lower. This all combines to give us some motivation to determine if the incentives were specifically influenced by the iZEV incentives. The below t-tests show that there is a significant difference in the mean of the fraction of EV registrations before and after the incentives with an $\\alpha$ = 0.05. There is also significant result showing an increase in the EV registrations per capita, and a decrease in the non-EV registrations per capita over the same time periods. "
   ]
  },
  {
   "cell_type": "code",
   "execution_count": 54,
   "id": "2a5bfd93",
   "metadata": {},
   "outputs": [
    {
     "data": {
      "image/png": "[encoded data removed]",
      "text/plain": [
       "<Figure size 432x216 with 3 Axes>"
      ]
     },
     "metadata": {},
     "output_type": "display_data"
    }
   ],
   "source": [
    "fig, (ax1, ax2, ax3) = plt.subplots(1, 3)\n",
    "\n",
    "sns.set(rc={'figure.figsize':(4,3)})\n",
    "\n",
    "\n",
    "copy = finaldf.copy()\n",
    "# copy['EV/Reg']=np.sqrt(copy['EV/Reg'])\n",
    "\n",
    "# fig, (ax1, ax2) = plt.subplots(1, 2)\n",
    "\n",
    "plot = sns.histplot(data = copy.loc[copy['Type']=='EV'], x = 'EV/Reg', hue = 'Is Incentive', palette = sns.color_palette(\"mako\", 2), ax = ax1)\n",
    "plot.set(title='Distribution of EV \\n Registration Fraction')\n",
    "plot.set(xlabel='Fraction of EV Registrations', ylabel='Count')\n",
    "\n",
    "\n",
    "# plot = sns.histplot(data = copy.loc[copy['Type']=='Not EV'], x = 'EV/Reg', hue = 'Is Incentive', palette = sns.color_palette(\"mako\", 2), ax = ax2)\n",
    "# plot.set(title='Distribution of Non-EV Registrations Fraction')\n",
    "# plot.set(xlabel='Fraction of EV Registrations', ylabel='Count')\n",
    "\n",
    "plot = sns.histplot(data = finaldf.loc[finaldf['Type']=='EV'], x = 'Reg/Pop', hue = 'Is Incentive', palette = sns.color_palette(\"mako\", 2), ax = ax2)\n",
    "plot.set(title='Distribution of EV \\n Registrations \\n per Capita')\n",
    "plot.set(xlabel='Registrations per Capita', ylabel='Count')\n",
    "\n",
    "\n",
    "plot = sns.histplot(data = finaldf.loc[finaldf['Type']=='Not EV'], x = 'Reg/Pop', hue = 'Is Incentive', palette = sns.color_palette(\"mako\", 2), ax = ax3)\n",
    "plot.set(title='Distribution of \\n Non-EV Registrations \\n per Capita')\n",
    "plot.set(xlabel='Registrations per Capita', ylabel='Count')\n",
    "\n",
    "\n",
    "plt.tight_layout() \n",
    "plt.show()\n"
   ]
  },
  {
   "cell_type": "code",
   "execution_count": 43,
   "id": "06dfa7ac",
   "metadata": {},
   "outputs": [
    {
     "data": {
      "text/html": [
       "<div>\n",
       "<style scoped>\n",
       "    .dataframe tbody tr th:only-of-type {\n",
       "        vertical-align: middle;\n",
       "    }\n",
       "\n",
       "    .dataframe tbody tr th {\n",
       "        vertical-align: top;\n",
       "    }\n",
       "\n",
       "    .dataframe thead th {\n",
       "        text-align: right;\n",
       "    }\n",
       "</style>\n",
       "<table border=\"1\" class=\"dataframe\">\n",
       "  <thead>\n",
       "    <tr style=\"text-align: right;\">\n",
       "      <th></th>\n",
       "      <th>T-test Statistic</th>\n",
       "      <th>p Value</th>\n",
       "    </tr>\n",
       "  </thead>\n",
       "  <tbody>\n",
       "    <tr>\n",
       "      <th>EV Fraction</th>\n",
       "      <td>3.343128</td>\n",
       "      <td>0.001807</td>\n",
       "    </tr>\n",
       "    <tr>\n",
       "      <th>EV Registrations</th>\n",
       "      <td>3.147916</td>\n",
       "      <td>0.003104</td>\n",
       "    </tr>\n",
       "    <tr>\n",
       "      <th>Non-EV Registrations</th>\n",
       "      <td>-4.796601</td>\n",
       "      <td>0.000023</td>\n",
       "    </tr>\n",
       "  </tbody>\n",
       "</table>\n",
       "</div>"
      ],
      "text/plain": [
       "                      T-test Statistic   p Value\n",
       "EV Fraction                   3.343128  0.001807\n",
       "EV Registrations              3.147916  0.003104\n",
       "Non-EV Registrations         -4.796601  0.000023"
      ]
     },
     "execution_count": 43,
     "metadata": {},
     "output_type": "execute_result"
    }
   ],
   "source": [
    "a1 = finaldf.loc[(finaldf['Type'] == 'EV') & (finaldf['Is Incentive'] == 'Yes')]['EV/Reg']\n",
    "b1 = finaldf.loc[(finaldf['Type'] == 'EV') & (finaldf['Is Incentive'] == 'No')]['EV/Reg']\n",
    "\n",
    "\n",
    "a = finaldf.loc[(finaldf['Type'] == 'EV') & (finaldf['Is Incentive'] == 'Yes')]['Reg/Pop']\n",
    "b = finaldf.loc[(finaldf['Type'] == 'EV') & (finaldf['Is Incentive'] == 'No')]['Reg/Pop']\n",
    "\n",
    "c = finaldf.loc[(finaldf['Type'] == 'Not EV') & (finaldf['Is Incentive'] == 'Yes')]['Reg/Pop']\n",
    "d = finaldf.loc[(finaldf['Type'] == 'Not EV') & (finaldf['Is Incentive'] == 'No')]['Reg/Pop']\n",
    "\n",
    "\n",
    "\n",
    "df = {'T-test Statistic': [ttest_ind(a1,b1)[0], ttest_ind(a,b)[0], ttest_ind(c,d)[0]], 'p Value': [ttest_ind(a1,b1)[1], ttest_ind(a,b)[1], ttest_ind(c,d)[1]]}\n",
    "df = pd.DataFrame(data=df, index = ['EV Fraction','EV Registrations','Non-EV Registrations'])\n",
    "\n",
    "df"
   ]
  },
  {
   "cell_type": "markdown",
   "id": "99da0ae6",
   "metadata": {},
   "source": [
    "However, looking at year-to-year comparisons instead of simply comparing the before and after periods shows that there is no significant difference in the jump from 2018 to 2019 - or in an individual year - which casts doubt on the idea that the iZEV incentives are specifically responsible for the difference noted above, instead of simply the trend of increased popularity of EV that can be seen in the yearly registration data."
   ]
  },
  {
   "cell_type": "code",
   "execution_count": 55,
   "id": "3feaa112",
   "metadata": {},
   "outputs": [
    {
     "data": {
      "text/html": [
       "<div>\n",
       "<style scoped>\n",
       "    .dataframe tbody tr th:only-of-type {\n",
       "        vertical-align: middle;\n",
       "    }\n",
       "\n",
       "    .dataframe tbody tr th {\n",
       "        vertical-align: top;\n",
       "    }\n",
       "\n",
       "    .dataframe thead th {\n",
       "        text-align: right;\n",
       "    }\n",
       "</style>\n",
       "<table border=\"1\" class=\"dataframe\">\n",
       "  <thead>\n",
       "    <tr style=\"text-align: right;\">\n",
       "      <th></th>\n",
       "      <th>Years</th>\n",
       "      <th>p Value of T-test for EV fraction</th>\n",
       "      <th>p Value of T-test for Registrations per Capita</th>\n",
       "    </tr>\n",
       "  </thead>\n",
       "  <tbody>\n",
       "    <tr>\n",
       "      <th>0</th>\n",
       "      <td>2018-2019</td>\n",
       "      <td>0.368296</td>\n",
       "      <td>0.407797</td>\n",
       "    </tr>\n",
       "  </tbody>\n",
       "</table>\n",
       "</div>"
      ],
      "text/plain": [
       "       Years  p Value of T-test for EV fraction  \\\n",
       "0  2018-2019                           0.368296   \n",
       "\n",
       "   p Value of T-test for Registrations per Capita  \n",
       "0                                        0.407797  "
      ]
     },
     "execution_count": 55,
     "metadata": {},
     "output_type": "execute_result"
    }
   ],
   "source": [
    "t = []\n",
    "for y in [2018]:\n",
    "    a = finaldf.loc[(finaldf['Type'] == 'EV') & (finaldf['Year'] == y)]['EV/Reg']\n",
    "    b = finaldf.loc[(finaldf['Type'] == 'EV') & (finaldf['Year'] == y+1)]['EV/Reg']\n",
    "    t.append(ttest_ind(a,b)[1])\n",
    "    \n",
    "t2 = []\n",
    "for y in [2018]:\n",
    "    a = finaldf.loc[(finaldf['Type'] == 'EV') & (finaldf['Year'] == y)]['Reg/Pop']\n",
    "    b = finaldf.loc[(finaldf['Type'] == 'EV') & (finaldf['Year'] == y+1)]['Reg/Pop']\n",
    "    t2.append(ttest_ind(a,b)[1])\n",
    "    \n",
    "\n",
    "d = {'Years': ['2018-2019'], 'p Value of T-test for EV fraction': t, 'p Value of T-test for Registrations per Capita': t2}\n",
    "df = pd.DataFrame(data=d)\n",
    "df"
   ]
  },
  {
   "cell_type": "markdown",
   "id": "1e164df9",
   "metadata": {},
   "source": [
    "---\n",
    "## Conclusions\n",
    "\n",
    "While it is certainly the case that electric vehicles have increased in popularity over the years from 2017-2022, and there is a correlation between the increase and the iZEV incentive program, there does not appear to be strong evidence that the incentive program itself had a significant effect. If it had had an effect, we would probably expect to see a particularly large increase in EV registrations in the year or two after they came into effect, and while there is an increase, there does not seem to be anything special about the jump from 2018-2019. "
   ]
  }
 ],
 "metadata": {
  "celltoolbar": "Tags",
  "hide_input": false,
  "kernelspec": {
   "display_name": "Python 3 (ipykernel)",
   "language": "python",
   "name": "python3"
  },
  "language_info": {
   "codemirror_mode": {
    "name": "ipython",
    "version": 3
   },
   "file_extension": ".py",
   "mimetype": "text/x-python",
   "name": "python",
   "nbconvert_exporter": "python",
   "pygments_lexer": "ipython3",
   "version": "3.9.12"
  }
 },
 "nbformat": 4,
 "nbformat_minor": 5
}
